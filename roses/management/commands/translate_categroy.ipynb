{
 "cells": [
  {
   "cell_type": "code",
   "execution_count": 22,
   "metadata": {},
   "outputs": [],
   "source": [
    "import pandas as pd\n",
    "from googletrans import Translator"
   ]
  },
  {
   "cell_type": "code",
   "execution_count": 23,
   "metadata": {},
   "outputs": [],
   "source": [
    "df_category = pd.read_csv('category.csv')"
   ]
  },
  {
   "cell_type": "code",
   "execution_count": 24,
   "metadata": {},
   "outputs": [
    {
     "data": {
      "text/plain": [
       "Index(['Unnamed: 0', 'name', 'slug', 'image', 'description'], dtype='object')"
      ]
     },
     "execution_count": 24,
     "metadata": {},
     "output_type": "execute_result"
    }
   ],
   "source": [
    "df_category.columns"
   ]
  },
  {
   "cell_type": "code",
   "execution_count": 25,
   "metadata": {},
   "outputs": [],
   "source": [
    "def translate(old_column, new_column, old_languages, new_lenguages):\n",
    "    translator = Translator()\n",
    "    df_category[new_column] = df_category[old_column].apply(lambda x: translator.translate(x, src=old_languages, dest=new_lenguages).text)\n",
    "\n",
    "\n"
   ]
  },
  {
   "cell_type": "code",
   "execution_count": 26,
   "metadata": {},
   "outputs": [],
   "source": [
    "old_column = 'name'\n",
    "new_column = 'name_en'\n",
    "old_lenguages = 'ru'\n",
    "new_lenguages = 'en'\n",
    "translate(old_column, new_column, old_lenguages, new_lenguages)"
   ]
  },
  {
   "cell_type": "code",
   "execution_count": 27,
   "metadata": {},
   "outputs": [],
   "source": [
    "old_column = 'description'\n",
    "new_column = 'description_en'\n",
    "old_lenguages = 'ru'\n",
    "new_lenguages = 'en'\n",
    "translate(old_column, new_column, old_lenguages, new_lenguages)"
   ]
  },
  {
   "cell_type": "code",
   "execution_count": 28,
   "metadata": {},
   "outputs": [],
   "source": [
    "old_column = 'name'\n",
    "new_column = 'name_ro'\n",
    "old_lenguages = 'ru'\n",
    "new_lenguages = 'ro'\n",
    "translate(old_column, new_column, old_lenguages, new_lenguages)"
   ]
  },
  {
   "cell_type": "code",
   "execution_count": 29,
   "metadata": {},
   "outputs": [],
   "source": [
    "old_column = 'description'\n",
    "new_column = 'description_ro'\n",
    "old_lenguages = 'ru'\n",
    "new_lenguages = 'ro'\n",
    "translate(old_column, new_column, old_lenguages, new_lenguages)"
   ]
  },
  {
   "cell_type": "code",
   "execution_count": 30,
   "metadata": {},
   "outputs": [],
   "source": [
    "old_column = 'name'\n",
    "new_column = 'name_uk'\n",
    "old_lenguages = 'ru'\n",
    "new_lenguages = 'uk'\n",
    "translate(old_column, new_column, old_lenguages, new_lenguages)"
   ]
  },
  {
   "cell_type": "code",
   "execution_count": 31,
   "metadata": {},
   "outputs": [],
   "source": [
    "old_column = 'description'\n",
    "new_column = 'description_uk'\n",
    "old_lenguages = 'ru'\n",
    "new_lenguages = 'uk'\n",
    "translate(old_column, new_column, old_lenguages, new_lenguages)"
   ]
  },
  {
   "cell_type": "code",
   "execution_count": 33,
   "metadata": {},
   "outputs": [
    {
     "data": {
      "text/html": [
       "<div>\n",
       "<style scoped>\n",
       "    .dataframe tbody tr th:only-of-type {\n",
       "        vertical-align: middle;\n",
       "    }\n",
       "\n",
       "    .dataframe tbody tr th {\n",
       "        vertical-align: top;\n",
       "    }\n",
       "\n",
       "    .dataframe thead th {\n",
       "        text-align: right;\n",
       "    }\n",
       "</style>\n",
       "<table border=\"1\" class=\"dataframe\">\n",
       "  <thead>\n",
       "    <tr style=\"text-align: right;\">\n",
       "      <th></th>\n",
       "      <th>Unnamed: 0</th>\n",
       "      <th>slug</th>\n",
       "      <th>image</th>\n",
       "      <th>name_en</th>\n",
       "      <th>description_en</th>\n",
       "      <th>name_ro</th>\n",
       "      <th>description_ro</th>\n",
       "      <th>name_uk</th>\n",
       "      <th>description_uk</th>\n",
       "    </tr>\n",
       "  </thead>\n",
       "  <tbody>\n",
       "    <tr>\n",
       "      <th>0</th>\n",
       "      <td>0</td>\n",
       "      <td>yaponskie_rozy</td>\n",
       "      <td>image_category/yaponskie_rozy.png</td>\n",
       "      <td>Japanese roses</td>\n",
       "      <td>Japanese roses are an incredible combination o...</td>\n",
       "      <td>Trandafiri japonezi</td>\n",
       "      <td>Trandafirii japonezi sunt o combinație incredi...</td>\n",
       "      <td>Японські троянди</td>\n",
       "      <td>Японські троянди - це неймовірне поєднання вит...</td>\n",
       "    </tr>\n",
       "    <tr>\n",
       "      <th>1</th>\n",
       "      <td>1</td>\n",
       "      <td>pionovidnye_rozy</td>\n",
       "      <td>image_category/pionovidnye_rozy.png</td>\n",
       "      <td>Pionivate roses</td>\n",
       "      <td>Pionovidal roses are a real embodiment of sple...</td>\n",
       "      <td>Trandafiri pioniezi</td>\n",
       "      <td>Trandafirii pionovidați sunt o adevărată întru...</td>\n",
       "      <td>Піонативні троянди</td>\n",
       "      <td>Піоновідальні троянди - це справжнє втілення п...</td>\n",
       "    </tr>\n",
       "    <tr>\n",
       "      <th>2</th>\n",
       "      <td>2</td>\n",
       "      <td>sadovye_rozy_premium_klassa</td>\n",
       "      <td>image_category/sadovye_rozy_premium_klassa.png</td>\n",
       "      <td>Garden roses of premium class</td>\n",
       "      <td>Premium garden roses are a crown of elegance a...</td>\n",
       "      <td>Trandafiri de grădină de clasă premium</td>\n",
       "      <td>Trandafirii de grădină premium sunt o coroană ...</td>\n",
       "      <td>Садові троянди преміум -класу</td>\n",
       "      <td>Преміумські садові троянди - це корона витонче...</td>\n",
       "    </tr>\n",
       "    <tr>\n",
       "      <th>3</th>\n",
       "      <td>3</td>\n",
       "      <td>miniatyurnie_cprei_rozi</td>\n",
       "      <td>image_category/miniatyurnie_cprei_rozi.png</td>\n",
       "      <td>Miniature roses</td>\n",
       "      <td>Miniature roses are delicate miracles that hid...</td>\n",
       "      <td>Trandafiri în miniatură</td>\n",
       "      <td>Trandafirii în miniatură sunt minuni delicate ...</td>\n",
       "      <td>Мініатюрні троянди</td>\n",
       "      <td>Мініатюрні троянди - це делікатні чудеса, які ...</td>\n",
       "    </tr>\n",
       "    <tr>\n",
       "      <th>4</th>\n",
       "      <td>4</td>\n",
       "      <td>pletictie_rozi</td>\n",
       "      <td>image_category/pletictie_rozi.png</td>\n",
       "      <td>Weaved roses</td>\n",
       "      <td>Weaved roses are natural artists who create li...</td>\n",
       "      <td>Trandafiri țesuti</td>\n",
       "      <td>Trandafirii țesători sunt artiști naturali car...</td>\n",
       "      <td>Плетені троянди</td>\n",
       "      <td>Плетені троянди - це природні художники, які с...</td>\n",
       "    </tr>\n",
       "  </tbody>\n",
       "</table>\n",
       "</div>"
      ],
      "text/plain": [
       "   Unnamed: 0                         slug  \\\n",
       "0           0               yaponskie_rozy   \n",
       "1           1             pionovidnye_rozy   \n",
       "2           2  sadovye_rozy_premium_klassa   \n",
       "3           3      miniatyurnie_cprei_rozi   \n",
       "4           4               pletictie_rozi   \n",
       "\n",
       "                                            image  \\\n",
       "0               image_category/yaponskie_rozy.png   \n",
       "1             image_category/pionovidnye_rozy.png   \n",
       "2  image_category/sadovye_rozy_premium_klassa.png   \n",
       "3      image_category/miniatyurnie_cprei_rozi.png   \n",
       "4               image_category/pletictie_rozi.png   \n",
       "\n",
       "                         name_en  \\\n",
       "0                 Japanese roses   \n",
       "1                Pionivate roses   \n",
       "2  Garden roses of premium class   \n",
       "3                Miniature roses   \n",
       "4                   Weaved roses   \n",
       "\n",
       "                                      description_en  \\\n",
       "0  Japanese roses are an incredible combination o...   \n",
       "1  Pionovidal roses are a real embodiment of sple...   \n",
       "2  Premium garden roses are a crown of elegance a...   \n",
       "3  Miniature roses are delicate miracles that hid...   \n",
       "4  Weaved roses are natural artists who create li...   \n",
       "\n",
       "                                  name_ro  \\\n",
       "0                     Trandafiri japonezi   \n",
       "1                     Trandafiri pioniezi   \n",
       "2  Trandafiri de grădină de clasă premium   \n",
       "3                 Trandafiri în miniatură   \n",
       "4                       Trandafiri țesuti   \n",
       "\n",
       "                                      description_ro  \\\n",
       "0  Trandafirii japonezi sunt o combinație incredi...   \n",
       "1  Trandafirii pionovidați sunt o adevărată întru...   \n",
       "2  Trandafirii de grădină premium sunt o coroană ...   \n",
       "3  Trandafirii în miniatură sunt minuni delicate ...   \n",
       "4  Trandafirii țesători sunt artiști naturali car...   \n",
       "\n",
       "                         name_uk  \\\n",
       "0               Японські троянди   \n",
       "1             Піонативні троянди   \n",
       "2  Садові троянди преміум -класу   \n",
       "3             Мініатюрні троянди   \n",
       "4                Плетені троянди   \n",
       "\n",
       "                                      description_uk  \n",
       "0  Японські троянди - це неймовірне поєднання вит...  \n",
       "1  Піоновідальні троянди - це справжнє втілення п...  \n",
       "2  Преміумські садові троянди - це корона витонче...  \n",
       "3  Мініатюрні троянди - це делікатні чудеса, які ...  \n",
       "4  Плетені троянди - це природні художники, які с...  "
      ]
     },
     "execution_count": 33,
     "metadata": {},
     "output_type": "execute_result"
    }
   ],
   "source": [
    "df_category.drop(columns=['name', 'description'], inplace=True)\n",
    "df_category.head()"
   ]
  },
  {
   "cell_type": "code",
   "execution_count": 34,
   "metadata": {},
   "outputs": [],
   "source": [
    "# Замените 'translated_file.csv' на имя нового CSV файла\n",
    "df_category.to_csv('translated_category.csv', index=False)\n"
   ]
  }
 ],
 "metadata": {
  "kernelspec": {
   "display_name": "venv",
   "language": "python",
   "name": "python3"
  },
  "language_info": {
   "codemirror_mode": {
    "name": "ipython",
    "version": 3
   },
   "file_extension": ".py",
   "mimetype": "text/x-python",
   "name": "python",
   "nbconvert_exporter": "python",
   "pygments_lexer": "ipython3",
   "version": "3.10.12"
  },
  "orig_nbformat": 4
 },
 "nbformat": 4,
 "nbformat_minor": 2
}
