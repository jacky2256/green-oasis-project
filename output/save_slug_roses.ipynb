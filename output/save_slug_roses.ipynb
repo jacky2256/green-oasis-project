{
 "cells": [
  {
   "cell_type": "code",
   "execution_count": 2,
   "metadata": {},
   "outputs": [],
   "source": [
    "import pandas as pd"
   ]
  },
  {
   "cell_type": "code",
   "execution_count": 3,
   "metadata": {},
   "outputs": [],
   "source": [
    "df_roses = pd.read_csv('roses.csv')"
   ]
  },
  {
   "cell_type": "code",
   "execution_count": 4,
   "metadata": {},
   "outputs": [
    {
     "data": {
      "text/html": [
       "<div>\n",
       "<style scoped>\n",
       "    .dataframe tbody tr th:only-of-type {\n",
       "        vertical-align: middle;\n",
       "    }\n",
       "\n",
       "    .dataframe tbody tr th {\n",
       "        vertical-align: top;\n",
       "    }\n",
       "\n",
       "    .dataframe thead th {\n",
       "        text-align: right;\n",
       "    }\n",
       "</style>\n",
       "<table border=\"1\" class=\"dataframe\">\n",
       "  <thead>\n",
       "    <tr style=\"text-align: right;\">\n",
       "      <th></th>\n",
       "      <th>Unnamed: 0</th>\n",
       "      <th>title_en</th>\n",
       "      <th>title_ru</th>\n",
       "      <th>color</th>\n",
       "      <th>aroma</th>\n",
       "      <th>max_bush_height</th>\n",
       "      <th>min_bush_height</th>\n",
       "      <th>max_number_flawers</th>\n",
       "      <th>min_number_flawers</th>\n",
       "      <th>max_size_number</th>\n",
       "      <th>min_size_number</th>\n",
       "      <th>rain_resistance</th>\n",
       "      <th>powdery_mildew_resistance</th>\n",
       "      <th>black_spot_resistance</th>\n",
       "      <th>description</th>\n",
       "      <th>greenhouse</th>\n",
       "      <th>category</th>\n",
       "      <th>in_stock</th>\n",
       "      <th>slug</th>\n",
       "    </tr>\n",
       "  </thead>\n",
       "  <tbody>\n",
       "    <tr>\n",
       "      <th>0</th>\n",
       "      <td>0</td>\n",
       "      <td>ABDIEL</td>\n",
       "      <td>Абдиэль</td>\n",
       "      <td>Розовый</td>\n",
       "      <td>Средний</td>\n",
       "      <td>120</td>\n",
       "      <td>100</td>\n",
       "      <td>5</td>\n",
       "      <td>3</td>\n",
       "      <td>12</td>\n",
       "      <td>10</td>\n",
       "      <td>средняя</td>\n",
       "      <td>средняя</td>\n",
       "      <td>средняя</td>\n",
       "      <td>Роза японской селекции...</td>\n",
       "      <td>NaN</td>\n",
       "      <td>Японские розы</td>\n",
       "      <td>True</td>\n",
       "      <td>abdiel</td>\n",
       "    </tr>\n",
       "    <tr>\n",
       "      <th>1</th>\n",
       "      <td>1</td>\n",
       "      <td>NaN</td>\n",
       "      <td>Аои</td>\n",
       "      <td>Коричневый</td>\n",
       "      <td>Слабый</td>\n",
       "      <td>100</td>\n",
       "      <td>80</td>\n",
       "      <td>10</td>\n",
       "      <td>5</td>\n",
       "      <td>6</td>\n",
       "      <td>5</td>\n",
       "      <td>сильная</td>\n",
       "      <td>сильная</td>\n",
       "      <td>средняя</td>\n",
       "      <td>Прекрасный сорт для но...</td>\n",
       "      <td>Ken Osanai  Япония, 2008</td>\n",
       "      <td>Японские розы</td>\n",
       "      <td>True</td>\n",
       "      <td>aoi</td>\n",
       "    </tr>\n",
       "    <tr>\n",
       "      <th>2</th>\n",
       "      <td>2</td>\n",
       "      <td>NaN</td>\n",
       "      <td>Вагулетта</td>\n",
       "      <td>Фиолетовый</td>\n",
       "      <td>Средний</td>\n",
       "      <td>90</td>\n",
       "      <td>70</td>\n",
       "      <td>5</td>\n",
       "      <td>3</td>\n",
       "      <td>12</td>\n",
       "      <td>10</td>\n",
       "      <td>сильная</td>\n",
       "      <td>средняя</td>\n",
       "      <td>слабая</td>\n",
       "      <td>Роза Vaguelette японск...</td>\n",
       "      <td>Kawamoto Junko Япония, 2011</td>\n",
       "      <td>Японские розы</td>\n",
       "      <td>True</td>\n",
       "      <td>vaguletta</td>\n",
       "    </tr>\n",
       "    <tr>\n",
       "      <th>3</th>\n",
       "      <td>3</td>\n",
       "      <td>NaN</td>\n",
       "      <td>Вакана</td>\n",
       "      <td>Зеленый</td>\n",
       "      <td>Сильный</td>\n",
       "      <td>160</td>\n",
       "      <td>100</td>\n",
       "      <td>3</td>\n",
       "      <td>1</td>\n",
       "      <td>8</td>\n",
       "      <td>7</td>\n",
       "      <td>средняя</td>\n",
       "      <td>сильная</td>\n",
       "      <td>сильная</td>\n",
       "      <td>Сорт японской селекции...</td>\n",
       "      <td>Кимура Япония, 2006</td>\n",
       "      <td>Японские розы</td>\n",
       "      <td>True</td>\n",
       "      <td>vakana</td>\n",
       "    </tr>\n",
       "    <tr>\n",
       "      <th>4</th>\n",
       "      <td>4</td>\n",
       "      <td>Daphne</td>\n",
       "      <td>Дафна</td>\n",
       "      <td>NaN</td>\n",
       "      <td>NaN</td>\n",
       "      <td>0</td>\n",
       "      <td>0</td>\n",
       "      <td>0</td>\n",
       "      <td>0</td>\n",
       "      <td>0</td>\n",
       "      <td>0</td>\n",
       "      <td>NaN</td>\n",
       "      <td>NaN</td>\n",
       "      <td>NaN</td>\n",
       "      <td></td>\n",
       "      <td>NaN</td>\n",
       "      <td>Японские розы</td>\n",
       "      <td>True</td>\n",
       "      <td>dafna</td>\n",
       "    </tr>\n",
       "  </tbody>\n",
       "</table>\n",
       "</div>"
      ],
      "text/plain": [
       "   Unnamed: 0 title_en   title_ru       color    aroma  max_bush_height  \\\n",
       "0           0   ABDIEL    Абдиэль     Розовый  Средний              120   \n",
       "1           1      NaN        Аои  Коричневый   Слабый              100   \n",
       "2           2      NaN  Вагулетта  Фиолетовый  Средний               90   \n",
       "3           3      NaN     Вакана     Зеленый  Сильный              160   \n",
       "4           4   Daphne      Дафна         NaN      NaN                0   \n",
       "\n",
       "   min_bush_height  max_number_flawers  min_number_flawers  max_size_number  \\\n",
       "0              100                   5                   3               12   \n",
       "1               80                  10                   5                6   \n",
       "2               70                   5                   3               12   \n",
       "3              100                   3                   1                8   \n",
       "4                0                   0                   0                0   \n",
       "\n",
       "   min_size_number rain_resistance powdery_mildew_resistance  \\\n",
       "0               10         средняя                   средняя   \n",
       "1                5         сильная                   сильная   \n",
       "2               10         сильная                   средняя   \n",
       "3                7         средняя                   сильная   \n",
       "4                0             NaN                       NaN   \n",
       "\n",
       "  black_spot_resistance                                        description  \\\n",
       "0               средняя                          Роза японской селекции...   \n",
       "1               средняя                          Прекрасный сорт для но...   \n",
       "2                слабая                          Роза Vaguelette японск...   \n",
       "3               сильная                          Сорт японской селекции...   \n",
       "4                   NaN                                                      \n",
       "\n",
       "                    greenhouse       category  in_stock       slug  \n",
       "0                          NaN  Японские розы      True     abdiel  \n",
       "1     Ken Osanai  Япония, 2008  Японские розы      True        aoi  \n",
       "2  Kawamoto Junko Япония, 2011  Японские розы      True  vaguletta  \n",
       "3          Кимура Япония, 2006  Японские розы      True     vakana  \n",
       "4                          NaN  Японские розы      True      dafna  "
      ]
     },
     "execution_count": 4,
     "metadata": {},
     "output_type": "execute_result"
    }
   ],
   "source": [
    "df_roses.head()"
   ]
  },
  {
   "cell_type": "code",
   "execution_count": null,
   "metadata": {},
   "outputs": [],
   "source": []
  },
  {
   "cell_type": "code",
   "execution_count": 6,
   "metadata": {},
   "outputs": [],
   "source": [
    "df_url_roses = pd.DataFrame()"
   ]
  },
  {
   "cell_type": "code",
   "execution_count": 9,
   "metadata": {},
   "outputs": [
    {
     "data": {
      "text/html": [
       "<div>\n",
       "<style scoped>\n",
       "    .dataframe tbody tr th:only-of-type {\n",
       "        vertical-align: middle;\n",
       "    }\n",
       "\n",
       "    .dataframe tbody tr th {\n",
       "        vertical-align: top;\n",
       "    }\n",
       "\n",
       "    .dataframe thead th {\n",
       "        text-align: right;\n",
       "    }\n",
       "</style>\n",
       "<table border=\"1\" class=\"dataframe\">\n",
       "  <thead>\n",
       "    <tr style=\"text-align: right;\">\n",
       "      <th></th>\n",
       "      <th>category</th>\n",
       "      <th>slug</th>\n",
       "    </tr>\n",
       "  </thead>\n",
       "  <tbody>\n",
       "    <tr>\n",
       "      <th>0</th>\n",
       "      <td>Японские розы</td>\n",
       "      <td>abdiel</td>\n",
       "    </tr>\n",
       "    <tr>\n",
       "      <th>1</th>\n",
       "      <td>Японские розы</td>\n",
       "      <td>aoi</td>\n",
       "    </tr>\n",
       "    <tr>\n",
       "      <th>2</th>\n",
       "      <td>Японские розы</td>\n",
       "      <td>vaguletta</td>\n",
       "    </tr>\n",
       "    <tr>\n",
       "      <th>3</th>\n",
       "      <td>Японские розы</td>\n",
       "      <td>vakana</td>\n",
       "    </tr>\n",
       "    <tr>\n",
       "      <th>4</th>\n",
       "      <td>Японские розы</td>\n",
       "      <td>dafna</td>\n",
       "    </tr>\n",
       "  </tbody>\n",
       "</table>\n",
       "</div>"
      ],
      "text/plain": [
       "        category       slug\n",
       "0  Японские розы     abdiel\n",
       "1  Японские розы        aoi\n",
       "2  Японские розы  vaguletta\n",
       "3  Японские розы     vakana\n",
       "4  Японские розы      dafna"
      ]
     },
     "execution_count": 9,
     "metadata": {},
     "output_type": "execute_result"
    }
   ],
   "source": [
    "df_url_roses['category'] = df_roses['category']\n",
    "df_url_roses['slug'] = df_roses['slug']\n",
    "df_url_roses.head()"
   ]
  },
  {
   "cell_type": "code",
   "execution_count": 10,
   "metadata": {},
   "outputs": [
    {
     "data": {
      "text/html": [
       "<div>\n",
       "<style scoped>\n",
       "    .dataframe tbody tr th:only-of-type {\n",
       "        vertical-align: middle;\n",
       "    }\n",
       "\n",
       "    .dataframe tbody tr th {\n",
       "        vertical-align: top;\n",
       "    }\n",
       "\n",
       "    .dataframe thead th {\n",
       "        text-align: right;\n",
       "    }\n",
       "</style>\n",
       "<table border=\"1\" class=\"dataframe\">\n",
       "  <thead>\n",
       "    <tr style=\"text-align: right;\">\n",
       "      <th></th>\n",
       "      <th>category</th>\n",
       "      <th>slug</th>\n",
       "    </tr>\n",
       "  </thead>\n",
       "  <tbody>\n",
       "    <tr>\n",
       "      <th>0</th>\n",
       "      <td>yaponskie_rozy</td>\n",
       "      <td>abdiel</td>\n",
       "    </tr>\n",
       "    <tr>\n",
       "      <th>1</th>\n",
       "      <td>yaponskie_rozy</td>\n",
       "      <td>aoi</td>\n",
       "    </tr>\n",
       "    <tr>\n",
       "      <th>2</th>\n",
       "      <td>yaponskie_rozy</td>\n",
       "      <td>vaguletta</td>\n",
       "    </tr>\n",
       "    <tr>\n",
       "      <th>3</th>\n",
       "      <td>yaponskie_rozy</td>\n",
       "      <td>vakana</td>\n",
       "    </tr>\n",
       "    <tr>\n",
       "      <th>4</th>\n",
       "      <td>yaponskie_rozy</td>\n",
       "      <td>dafna</td>\n",
       "    </tr>\n",
       "  </tbody>\n",
       "</table>\n",
       "</div>"
      ],
      "text/plain": [
       "         category       slug\n",
       "0  yaponskie_rozy     abdiel\n",
       "1  yaponskie_rozy        aoi\n",
       "2  yaponskie_rozy  vaguletta\n",
       "3  yaponskie_rozy     vakana\n",
       "4  yaponskie_rozy      dafna"
      ]
     },
     "execution_count": 10,
     "metadata": {},
     "output_type": "execute_result"
    }
   ],
   "source": [
    "new_names = [\n",
    "    'yaponskie_rozy', 'pionovidnye_rozy', 'sadovye_rozy_premium_klassa',\n",
    "    'miniatyurnie_cprei_rozi', 'pletictie_rozi', 'chaino_gibridnie_rozi',\n",
    "    'angliyskie_srezochnye_rozy', 'floribunda_rozi', 'anglijskie_rozy', 'muskusnye_rozy',\n",
    "    'shraby', 'pochvopokrovnie_rozi'\n",
    "]\n",
    "\n",
    "old_names = [\n",
    "    'Японские розы', 'Пионовидные розы', 'Садовые розы премиум класса',\n",
    "    'Миниатюрные розы', 'Плетистые розы', 'Чайно-гибридные розы',\n",
    "    'Английские розы (срезочные)', 'Флорибунда (Полифлора) розы', 'Английские розы',\n",
    "    'Мускусные розы', 'Шрабы', 'Почвопокровные розы'\n",
    "]\n",
    "\n",
    "df_url_roses['category'] = df_url_roses['category'].replace(old_names, new_names)\n",
    "df_url_roses.head()"
   ]
  },
  {
   "cell_type": "code",
   "execution_count": 12,
   "metadata": {},
   "outputs": [
    {
     "data": {
      "text/plain": [
       "array(['yaponskie_rozy', 'pionovidnye_rozy',\n",
       "       'sadovye_rozy_premium_klassa', 'miniatyurnie_cprei_rozi',\n",
       "       'pletictie_rozi', 'chaino_gibridnie_rozi',\n",
       "       'angliyskie_srezochnye_rozy', 'floribunda_rozi', 'anglijskie_rozy',\n",
       "       'muskusnye_rozy', 'shraby', 'pochvopokrovnie_rozi'], dtype=object)"
      ]
     },
     "execution_count": 12,
     "metadata": {},
     "output_type": "execute_result"
    }
   ],
   "source": [
    "df_url_roses['category'].unique()"
   ]
  },
  {
   "cell_type": "code",
   "execution_count": 15,
   "metadata": {},
   "outputs": [],
   "source": [
    "df_url_images = pd.DataFrame()"
   ]
  },
  {
   "cell_type": "code",
   "execution_count": 16,
   "metadata": {},
   "outputs": [],
   "source": [
    "df_url_images['combined'] = df_url_roses.apply(lambda row: f\"{row['category']}/{row['slug']}\", axis=1)"
   ]
  },
  {
   "cell_type": "code",
   "execution_count": 17,
   "metadata": {},
   "outputs": [
    {
     "data": {
      "text/html": [
       "<div>\n",
       "<style scoped>\n",
       "    .dataframe tbody tr th:only-of-type {\n",
       "        vertical-align: middle;\n",
       "    }\n",
       "\n",
       "    .dataframe tbody tr th {\n",
       "        vertical-align: top;\n",
       "    }\n",
       "\n",
       "    .dataframe thead th {\n",
       "        text-align: right;\n",
       "    }\n",
       "</style>\n",
       "<table border=\"1\" class=\"dataframe\">\n",
       "  <thead>\n",
       "    <tr style=\"text-align: right;\">\n",
       "      <th></th>\n",
       "      <th>combined</th>\n",
       "    </tr>\n",
       "  </thead>\n",
       "  <tbody>\n",
       "    <tr>\n",
       "      <th>0</th>\n",
       "      <td>yaponskie_rozy/abdiel</td>\n",
       "    </tr>\n",
       "    <tr>\n",
       "      <th>1</th>\n",
       "      <td>yaponskie_rozy/aoi</td>\n",
       "    </tr>\n",
       "    <tr>\n",
       "      <th>2</th>\n",
       "      <td>yaponskie_rozy/vaguletta</td>\n",
       "    </tr>\n",
       "    <tr>\n",
       "      <th>3</th>\n",
       "      <td>yaponskie_rozy/vakana</td>\n",
       "    </tr>\n",
       "    <tr>\n",
       "      <th>4</th>\n",
       "      <td>yaponskie_rozy/dafna</td>\n",
       "    </tr>\n",
       "  </tbody>\n",
       "</table>\n",
       "</div>"
      ],
      "text/plain": [
       "                   combined\n",
       "0     yaponskie_rozy/abdiel\n",
       "1        yaponskie_rozy/aoi\n",
       "2  yaponskie_rozy/vaguletta\n",
       "3     yaponskie_rozy/vakana\n",
       "4      yaponskie_rozy/dafna"
      ]
     },
     "execution_count": 17,
     "metadata": {},
     "output_type": "execute_result"
    }
   ],
   "source": [
    "df_url_images.head()"
   ]
  },
  {
   "cell_type": "code",
   "execution_count": 19,
   "metadata": {},
   "outputs": [],
   "source": [
    "df_url_images['combined'].to_csv('url_images_roses.txt', index=False, header=False)"
   ]
  },
  {
   "cell_type": "code",
   "execution_count": 22,
   "metadata": {},
   "outputs": [],
   "source": [
    "df_rosesimages_model = pd.read_json('url_images_roses.json')"
   ]
  },
  {
   "cell_type": "code",
   "execution_count": 23,
   "metadata": {},
   "outputs": [
    {
     "data": {
      "text/html": [
       "<div>\n",
       "<style scoped>\n",
       "    .dataframe tbody tr th:only-of-type {\n",
       "        vertical-align: middle;\n",
       "    }\n",
       "\n",
       "    .dataframe tbody tr th {\n",
       "        vertical-align: top;\n",
       "    }\n",
       "\n",
       "    .dataframe thead th {\n",
       "        text-align: right;\n",
       "    }\n",
       "</style>\n",
       "<table border=\"1\" class=\"dataframe\">\n",
       "  <thead>\n",
       "    <tr style=\"text-align: right;\">\n",
       "      <th></th>\n",
       "      <th>image</th>\n",
       "      <th>rose_id</th>\n",
       "    </tr>\n",
       "  </thead>\n",
       "  <tbody>\n",
       "    <tr>\n",
       "      <th>0</th>\n",
       "      <td>image_roses/abdiel_image_1.jpeg</td>\n",
       "      <td>abdiel</td>\n",
       "    </tr>\n",
       "    <tr>\n",
       "      <th>1</th>\n",
       "      <td>image_roses/abdiel_image_2.jpeg</td>\n",
       "      <td>abdiel</td>\n",
       "    </tr>\n",
       "    <tr>\n",
       "      <th>2</th>\n",
       "      <td>image_roses/abdiel_image_3.jpeg</td>\n",
       "      <td>abdiel</td>\n",
       "    </tr>\n",
       "    <tr>\n",
       "      <th>3</th>\n",
       "      <td>image_roses/abdiel_image_4.jpeg</td>\n",
       "      <td>abdiel</td>\n",
       "    </tr>\n",
       "    <tr>\n",
       "      <th>4</th>\n",
       "      <td>image_roses/abdiel_image_5.jpeg</td>\n",
       "      <td>abdiel</td>\n",
       "    </tr>\n",
       "  </tbody>\n",
       "</table>\n",
       "</div>"
      ],
      "text/plain": [
       "                             image rose_id\n",
       "0  image_roses/abdiel_image_1.jpeg  abdiel\n",
       "1  image_roses/abdiel_image_2.jpeg  abdiel\n",
       "2  image_roses/abdiel_image_3.jpeg  abdiel\n",
       "3  image_roses/abdiel_image_4.jpeg  abdiel\n",
       "4  image_roses/abdiel_image_5.jpeg  abdiel"
      ]
     },
     "execution_count": 23,
     "metadata": {},
     "output_type": "execute_result"
    }
   ],
   "source": [
    "df_rosesimages_model.head()"
   ]
  },
  {
   "cell_type": "code",
   "execution_count": 27,
   "metadata": {},
   "outputs": [],
   "source": [
    "df_rosesimages_model['image'] = df_rosesimages_model['image'].str.replace('image_roses/', '')"
   ]
  },
  {
   "cell_type": "code",
   "execution_count": 28,
   "metadata": {},
   "outputs": [
    {
     "data": {
      "text/plain": [
       "0    abdiel_image_1.jpeg\n",
       "1    abdiel_image_2.jpeg\n",
       "2    abdiel_image_3.jpeg\n",
       "3    abdiel_image_4.jpeg\n",
       "4    abdiel_image_5.jpeg\n",
       "Name: image, dtype: object"
      ]
     },
     "execution_count": 28,
     "metadata": {},
     "output_type": "execute_result"
    }
   ],
   "source": [
    "df_rosesimages_model['image'].head()"
   ]
  },
  {
   "cell_type": "code",
   "execution_count": 29,
   "metadata": {},
   "outputs": [],
   "source": [
    "df_rosesimages_model.to_csv('roses_images.csv', index=True)"
   ]
  },
  {
   "cell_type": "code",
   "execution_count": null,
   "metadata": {},
   "outputs": [],
   "source": []
  },
  {
   "cell_type": "code",
   "execution_count": null,
   "metadata": {},
   "outputs": [],
   "source": []
  }
 ],
 "metadata": {
  "kernelspec": {
   "display_name": "venv",
   "language": "python",
   "name": "python3"
  },
  "language_info": {
   "codemirror_mode": {
    "name": "ipython",
    "version": 3
   },
   "file_extension": ".py",
   "mimetype": "text/x-python",
   "name": "python",
   "nbconvert_exporter": "python",
   "pygments_lexer": "ipython3",
   "version": "3.10.12"
  },
  "orig_nbformat": 4
 },
 "nbformat": 4,
 "nbformat_minor": 2
}
